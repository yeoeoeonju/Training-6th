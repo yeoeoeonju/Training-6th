{
 "cells": [
  {
   "cell_type": "code",
   "execution_count": 9,
   "metadata": {},
   "outputs": [
    {
     "name": "stdout",
     "output_type": "stream",
     "text": [
      "{'name': '윤재민', 'address': '서울'}\n",
      "{'name': '규승현', 'address': '서울'}\n",
      "{'name': '손지한', 'address': '서울'}\n",
      "{'name': '정선우', 'address': '서울'}\n",
      "{'name': '박태민', 'address': '서울'}\n",
      "{'name': '양예나', 'address': '서울'}\n",
      "{'name': '장지안', 'address': '서울'}\n",
      "{'name': '김하윤', 'address': '서울'}\n",
      "{'name': '윤수호', 'address': '서울'}\n",
      "{'name': '박지안', 'address': '서울'}\n",
      "{'name': '최지안', 'address': '서울'}\n",
      "{'name': '조수아', 'address': '서울'}\n",
      "{'name': '한민재', 'address': '서울'}\n",
      "{'name': '김서준', 'address': '서울'}\n",
      "{'name': '윤태양', 'address': '서울'}\n"
     ]
    }
   ],
   "source": [
    "import pymysql\n",
    "\n",
    "# 각자 사용하는 DB에 맞춰 변경!\n",
    "db_name = 'books'  # DB(Schema 이름)\n",
    "db_username =  'root'  # DB 계정이름\n",
    "# DB 주소(AWS에서 엔드포인트)\n",
    "db_host = '127.0.0.1'\n",
    "db_password = 'root'  # DB 접속 비밀번호 \n",
    "db_port = 3306  # DB 포트번호\n",
    "\n",
    "# Connect to the database\n",
    "connection = pymysql.connect(host=db_host,\n",
    "                            port=db_port,\n",
    "                             user=db_username,\n",
    "                             password=db_password,\n",
    "                             database=db_name,\n",
    "                             cursorclass=pymysql.cursors.DictCursor)\n",
    "\n",
    "cursor = connection.cursor()\n",
    "\n",
    "try:\n",
    "    cursor.execute('select name, address from users where address = \\'서울\\'')\n",
    "    \n",
    "    result =  cursor.fetchall()\n",
    "\n",
    "    for i in result :\n",
    "        print(i)\n",
    "\n",
    "finally:\n",
    "    connection.close()"
   ]
  },
  {
   "cell_type": "code",
   "execution_count": 5,
   "metadata": {},
   "outputs": [
    {
     "name": "stdout",
     "output_type": "stream",
     "text": [
      "350553\n"
     ]
    }
   ],
   "source": [
    "import pymysql\n",
    "\n",
    "# 각자 사용하는 DB에 맞춰 변경!\n",
    "db_name = 'books'  # DB(Schema 이름)\n",
    "db_username =  'root'  # DB 계정이름\n",
    "# DB 주소(AWS에서 엔드포인트)\n",
    "db_host = '127.0.0.1'\n",
    "db_password = 'root'  # DB 접속 비밀번호 \n",
    "db_port = 3306  # DB 포트번호\n",
    "\n",
    "# Connect to the database\n",
    "connection = pymysql.connect(host=db_host,\n",
    "                            port=db_port,\n",
    "                             user=db_username,\n",
    "                             password=db_password,\n",
    "                             database=db_name,\n",
    "                             cursorclass=pymysql.cursors.DictCursor)\n",
    "\n",
    "cursor = connection.cursor()\n",
    "\n",
    "try:\n",
    "    cursor.execute('select sum(purchase_price) as 합계 from purchases where user_id = 1')\n",
    "    \n",
    "    result =  cursor.fetchall()\n",
    "\n",
    "    for i in result :\n",
    "        print(i['합계'])\n",
    "\n",
    "finally:\n",
    "    connection.close()"
   ]
  },
  {
   "cell_type": "code",
   "execution_count": 7,
   "metadata": {},
   "outputs": [
    {
     "name": "stdout",
     "output_type": "stream",
     "text": [
      "{'category_id': 1, 'count(book_id)': 4}\n",
      "{'category_id': 2, 'count(book_id)': 2}\n",
      "{'category_id': 3, 'count(book_id)': 4}\n",
      "{'category_id': 4, 'count(book_id)': 1}\n",
      "{'category_id': 5, 'count(book_id)': 2}\n",
      "{'category_id': 6, 'count(book_id)': 3}\n",
      "{'category_id': 7, 'count(book_id)': 4}\n",
      "{'category_id': 8, 'count(book_id)': 3}\n",
      "{'category_id': 9, 'count(book_id)': 2}\n",
      "{'category_id': 10, 'count(book_id)': 5}\n"
     ]
    }
   ],
   "source": [
    "import pymysql\n",
    "\n",
    "# 각자 사용하는 DB에 맞춰 변경!\n",
    "db_name = 'books'  # DB(Schema 이름)\n",
    "db_username =  'root'  # DB 계정이름\n",
    "# DB 주소(AWS에서 엔드포인트)\n",
    "db_host = '127.0.0.1'\n",
    "db_password = 'root'  # DB 접속 비밀번호 \n",
    "db_port = 3306  # DB 포트번호\n",
    "\n",
    "# Connect to the database\n",
    "connection = pymysql.connect(host=db_host,\n",
    "                            port=db_port,\n",
    "                             user=db_username,\n",
    "                             password=db_password,\n",
    "                             database=db_name,\n",
    "                             cursorclass=pymysql.cursors.DictCursor)\n",
    "\n",
    "cursor = connection.cursor()\n",
    "\n",
    "try:\n",
    "    cursor.execute('select category_id, count(book_id) from books group by category_id')\n",
    "    \n",
    "    result =  cursor.fetchall()\n",
    "\n",
    "    for i in result :\n",
    "        print(i)\n",
    "\n",
    "finally:\n",
    "    connection.close()"
   ]
  },
  {
   "cell_type": "code",
   "execution_count": 19,
   "metadata": {},
   "outputs": [
    {
     "name": "stdout",
     "output_type": "stream",
     "text": [
      "인문\n"
     ]
    }
   ],
   "source": [
    "import pymysql\n",
    "\n",
    "# 각자 사용하는 DB에 맞춰 변경!\n",
    "db_name = 'books'  # DB(Schema 이름)\n",
    "db_username =  'root'  # DB 계정이름\n",
    "# DB 주소(AWS에서 엔드포인트)\n",
    "db_host = '127.0.0.1'\n",
    "db_password = 'root'  # DB 접속 비밀번호 \n",
    "db_port = 3306  # DB 포트번호\n",
    "\n",
    "# Connect to the database\n",
    "connection = pymysql.connect(host=db_host,\n",
    "                            port=db_port,\n",
    "                             user=db_username,\n",
    "                             password=db_password,\n",
    "                             database=db_name,\n",
    "                             cursorclass=pymysql.cursors.DictCursor)\n",
    "\n",
    "cursor = connection.cursor()\n",
    "\n",
    "try:\n",
    "    cursor.execute('select category_name from categories where category_id = (select category_id from books where book_id = (select book_id from purchases group by book_id order by count(book_id) limit 1)) ')\n",
    "    \n",
    "    result =  cursor.fetchall()\n",
    "\n",
    "    for i in result :\n",
    "        print(i['category_name'])\n",
    "\n",
    "finally:\n",
    "    connection.close()"
   ]
  }
 ],
 "metadata": {
  "kernelspec": {
   "display_name": ".venv",
   "language": "python",
   "name": "python3"
  },
  "language_info": {
   "codemirror_mode": {
    "name": "ipython",
    "version": 3
   },
   "file_extension": ".py",
   "mimetype": "text/x-python",
   "name": "python",
   "nbconvert_exporter": "python",
   "pygments_lexer": "ipython3",
   "version": "3.11.5"
  }
 },
 "nbformat": 4,
 "nbformat_minor": 2
}
